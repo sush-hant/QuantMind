{
  "cells": [
    {
      "cell_type": "markdown",
      "metadata": {
        "colab_type": "text",
        "id": "view-in-github"
      },
      "source": [
        "<a href=\"https://colab.research.google.com/gist/EsshanCode/f74caf6036731187ae7618eaebc36a47/1_precision_recall.ipynb\" target=\"_parent\"><img src=\"https://colab.research.google.com/assets/colab-badge.svg\" alt=\"Open In Colab\"/></a>"
      ]
    },
    {
      "cell_type": "code",
      "execution_count": 1,
      "id": "9fd7b89d",
      "metadata": {
        "id": "9fd7b89d"
      },
      "outputs": [],
      "source": [
        "import pandas as pd\n",
        "import numpy as np"
      ]
    },
    {
      "cell_type": "code",
      "execution_count": 2,
      "id": "838932a5",
      "metadata": {
        "id": "838932a5"
      },
      "outputs": [],
      "source": [
        "# Set random seed for reproducibility\n",
        "np.random.seed(42)"
      ]
    },
    {
      "cell_type": "code",
      "execution_count": 4,
      "id": "56dfc387",
      "metadata": {
        "colab": {
          "base_uri": "https://localhost:8080/"
        },
        "id": "56dfc387",
        "outputId": "0e438946-7a00-4819-f6c7-50e73028a9ef"
      },
      "outputs": [
        {
          "name": "stdout",
          "output_type": "stream",
          "text": [
            "   true_positive  false_positive  false_negative\n",
            "0              0               0               1\n",
            "1              0               0               1\n",
            "2              1               0               0\n",
            "3              0               0               1\n",
            "4              0               1               0\n",
            "5              1               0               0\n",
            "6              0               1               0\n",
            "7              0               1               0\n",
            "8              0               1               0\n",
            "9              0               1               0\n"
          ]
        }
      ],
      "source": [
        "# Initialize an empty list to store rows\n",
        "rows = []\n",
        "\n",
        "for _ in range(10):\n",
        "    row = [0, 0, 0]  # Start with all zeros\n",
        "    idx = np.random.choice([0, 1, 2])  # Randomly choose one column to set to 1\n",
        "    row[idx] = 1\n",
        "    rows.append(row)\n",
        "\n",
        "# Create DataFrame\n",
        "df = pd.DataFrame(rows, columns=['true_positive', 'false_positive', 'false_negative'])\n",
        "\n",
        "# Initializing variables for true postiive and false positive/negative\n",
        "tp = df['true_positive'].sum()\n",
        "fp = df['false_positive'].sum()\n",
        "fn = df['false_negative'].sum()\n",
        "\n",
        "\n",
        "print(df)"
      ]
    },
    {
      "cell_type": "code",
      "execution_count": 5,
      "id": "7c6fd4c3",
      "metadata": {
        "colab": {
          "base_uri": "https://localhost:8080/"
        },
        "id": "7c6fd4c3",
        "outputId": "a3279b34-eaa5-4425-faf2-f97e71c6afdf"
      },
      "outputs": [
        {
          "name": "stdout",
          "output_type": "stream",
          "text": [
            "0.2857142857142857\n"
          ]
        }
      ],
      "source": [
        "#Write a code to calculate precision\n",
        "precision = tp / (tp + fp)\n",
        "print(precision)"
      ]
    },
    {
      "cell_type": "code",
      "execution_count": 6,
      "id": "0074f3ad",
      "metadata": {
        "colab": {
          "base_uri": "https://localhost:8080/"
        },
        "id": "0074f3ad",
        "outputId": "2364372b-9c5e-4ab4-e5c5-4950b101c9f6"
      },
      "outputs": [
        {
          "name": "stdout",
          "output_type": "stream",
          "text": [
            "0.4\n"
          ]
        }
      ],
      "source": [
        "#Write a code to calculate recall\n",
        "recall = tp / (tp + fn)\n",
        "print(recall)"
      ]
    },
    {
      "cell_type": "code",
      "execution_count": 7,
      "id": "7bd87e77",
      "metadata": {
        "colab": {
          "base_uri": "https://localhost:8080/"
        },
        "id": "7bd87e77",
        "outputId": "75fe2603-dfc8-4d1a-871e-9d1c6c549e30"
      },
      "outputs": [
        {
          "name": "stdout",
          "output_type": "stream",
          "text": [
            "0.3333333333333333\n"
          ]
        }
      ],
      "source": [
        "#Write a code to calculate F1-score\n",
        "f1_score = 2*(precision * recall) / (precision + recall)\n",
        "print(f1_score)"
      ]
    },
    {
      "cell_type": "code",
      "execution_count": null,
      "id": "201c073f",
      "metadata": {
        "id": "201c073f"
      },
      "outputs": [],
      "source": []
    }
  ],
  "metadata": {
    "colab": {
      "include_colab_link": true,
      "provenance": []
    },
    "kernelspec": {
      "display_name": "base",
      "language": "python",
      "name": "python3"
    },
    "language_info": {
      "codemirror_mode": {
        "name": "ipython",
        "version": 3
      },
      "file_extension": ".py",
      "mimetype": "text/x-python",
      "name": "python",
      "nbconvert_exporter": "python",
      "pygments_lexer": "ipython3",
      "version": "3.11.4"
    }
  },
  "nbformat": 4,
  "nbformat_minor": 5
}
